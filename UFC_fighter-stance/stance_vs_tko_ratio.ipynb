{
  "nbformat": 4,
  "nbformat_minor": 0,
  "metadata": {
    "colab": {
      "name": "stance-vs-tko_ratio.ipynb",
      "provenance": [],
      "collapsed_sections": [],
      "authorship_tag": "ABX9TyMhgUwg8e8+yc4vYDKnzpeS",
      "include_colab_link": true
    },
    "kernelspec": {
      "name": "python3",
      "display_name": "Python 3"
    },
    "language_info": {
      "name": "python"
    }
  },
  "cells": [
    {
      "cell_type": "markdown",
      "metadata": {
        "id": "view-in-github",
        "colab_type": "text"
      },
      "source": [
        "<a href=\"https://colab.research.google.com/github/kamalzada/Machine-Learning-Projects/blob/master/stance_vs_tko_ratio.ipynb\" target=\"_parent\"><img src=\"https://colab.research.google.com/assets/colab-badge.svg\" alt=\"Open In Colab\"/></a>"
      ]
    },
    {
      "cell_type": "code",
      "execution_count": 763,
      "metadata": {
        "id": "iwvReq-vdc9G"
      },
      "outputs": [],
      "source": [
        "# For web scraping\n",
        "import requests\n",
        "from bs4 import BeautifulSoup\n",
        "\n",
        "# For data cleaning/feature engineering\n",
        "import numpy as np\n",
        "import pandas as pd\n",
        "\n",
        "# For visualization\n",
        "import seaborn as sns\n",
        "import matplotlib.pyplot as plt\n",
        "\n",
        "#For statistical tests\n",
        "import pingouin as pg\n",
        "\n",
        "#Miscellaneous\n",
        "import string"
      ]
    },
    {
      "cell_type": "code",
      "source": [
        "df = pd.read_csv('fighter_stance.csv')"
      ],
      "metadata": {
        "id": "4oycrUeAdm9C"
      },
      "execution_count": 780,
      "outputs": []
    },
    {
      "cell_type": "code",
      "source": [
        "letters = string.ascii_lowercase\n",
        "fighter_ids = {}\n",
        "\n",
        "for letter in letters:\n",
        "    pages = requests.get(f'http://ufcstats.com/statistics/fighters?char={letter}&page=all')\n",
        "    soup = BeautifulSoup(pages.text, 'lxml')   \n",
        "    fighter_ids[letter] = soup.find_all('a', attrs = {'class': \"b-link b-link_style_black\"})"
      ],
      "metadata": {
        "id": "-LiB0zSGdv7K"
      },
      "execution_count": 2,
      "outputs": []
    },
    {
      "cell_type": "code",
      "source": [
        "#Extract pure links to send request to\n",
        "fighter_links = []\n",
        "\n",
        "for letter in letters:\n",
        "    for fighter in fighter_ids[letter]:\n",
        "        fighter_links.append(fighter['href']) "
      ],
      "metadata": {
        "id": "bMs8aed4dxmq"
      },
      "execution_count": 3,
      "outputs": []
    },
    {
      "cell_type": "code",
      "source": [
        "fighter_links = list(pd.Series(fighter_links).to_frame()[0].unique())"
      ],
      "metadata": {
        "id": "s70EcSSreYC4"
      },
      "execution_count": 4,
      "outputs": []
    },
    {
      "cell_type": "code",
      "source": [
        "len(fighter_links)"
      ],
      "metadata": {
        "colab": {
          "base_uri": "https://localhost:8080/"
        },
        "id": "qBrcHzN_egEa",
        "outputId": "b4872542-0c88-4c65-8378-f83d6a082cd9"
      },
      "execution_count": 5,
      "outputs": [
        {
          "output_type": "execute_result",
          "data": {
            "text/plain": [
              "3741"
            ]
          },
          "metadata": {},
          "execution_count": 5
        }
      ]
    },
    {
      "cell_type": "code",
      "source": [
        "%%time\n",
        "fighter_win = {}\n",
        "\n",
        "for link in fighter_links:  \n",
        "  pages = requests.get(link)\n",
        "  soup = BeautifulSoup(pages.text, 'lxml')   \n",
        "  fighter_win[link] = soup.find_all('p', attrs = {'class': \"b-fight-details__table-text\"}) "
      ],
      "metadata": {
        "colab": {
          "base_uri": "https://localhost:8080/"
        },
        "id": "4PWUy4uzegtC",
        "outputId": "3f104197-c014-4cc1-c8d4-88d3d63d17c8"
      },
      "execution_count": 6,
      "outputs": [
        {
          "output_type": "stream",
          "name": "stdout",
          "text": [
            "CPU times: user 1min 30s, sys: 3.48 s, total: 1min 33s\n",
            "Wall time: 19min 32s\n"
          ]
        }
      ]
    },
    {
      "cell_type": "code",
      "source": [
        "win_loss = [[0 for columns in range(0)] for rows in range(len(fighter_win))] \n",
        "\n",
        "for key, value in enumerate(fighter_links):\n",
        "  try:\n",
        "    if fighter_win[value][0].text.split('\\n')[1]=='next':\n",
        "      for i in np.arange(6, len(fighter_win[value]), 17):\n",
        "        win_loss[key].append(fighter_win[value][i].text.split('\\n')[1]) \n",
        "    else:\n",
        "      for j in np.arange(0, len(fighter_win[value]), 17):\n",
        "        win_loss[key].append(fighter_win[value][j].text.split('\\n')[1])\n",
        "   \n",
        "  except:\n",
        "     win_loss[key].append('')     "
      ],
      "metadata": {
        "id": "pdoWG5BaY4zp"
      },
      "execution_count": 781,
      "outputs": []
    },
    {
      "cell_type": "code",
      "source": [
        "method = [[0 for columns in range(0)] for rows in range(len(fighter_win))] \n",
        "\n",
        "for key, value in enumerate(fighter_links):\n",
        "  try:\n",
        "    if fighter_win[value][0].text.split('\\n')[1]!='next':\n",
        "      for i in np.arange (13, len(fighter_win[value]), 17):\n",
        "        method[key].append(fighter_win[value][i].text.split('\\n')[4][10:])\n",
        "        \n",
        "\n",
        "    elif fighter_win[value][0].text.split('\\n')[1]=='next':\n",
        "      for i in np.arange (19, len(fighter_win[value]), 17):\n",
        "        try:\n",
        "          method[key].append(fighter_win[value][i].text.split('\\n')[4][10:])\n",
        "        except:\n",
        "          method[key].append('No info')\n",
        "  except:\n",
        "     method[key].append('No info')       "
      ],
      "metadata": {
        "id": "Hm9t92ShmUU6"
      },
      "execution_count": 782,
      "outputs": []
    },
    {
      "cell_type": "code",
      "source": [
        "methods = [[0 for columns in range(0)] for rows in range(len(method))] \n",
        "\n",
        "for i in range(len(method)):\n",
        "  for key, value in enumerate(win_loss[i]):\n",
        "    if value=='win':\n",
        "      methods[i].append(method[i][key]) "
      ],
      "metadata": {
        "id": "QyScNWBnMjJy"
      },
      "execution_count": 783,
      "outputs": []
    },
    {
      "cell_type": "code",
      "source": [
        "#Fighter that have very many fights but very few in the UFC are discarded from the study\n",
        "for fighter in range(len(methods)):\n",
        "  if len(methods[fighter])<5:\n",
        "    methods[fighter] = 'Insufficient' "
      ],
      "metadata": {
        "id": "rToVj43MLNmJ"
      },
      "execution_count": 784,
      "outputs": []
    },
    {
      "cell_type": "code",
      "source": [
        "tko = [[0 for columns in range(0)] for rows in range(len(methods))]\n",
        "\n",
        "for f in range(len(methods)):\n",
        "  for key, value in enumerate(methods[f]):\n",
        "    if value=='KO/TKO':\n",
        "      tko[f].append(methods[f][key])    "
      ],
      "metadata": {
        "id": "XhutYh8lw-DJ"
      },
      "execution_count": 785,
      "outputs": []
    },
    {
      "cell_type": "code",
      "source": [
        "#Finally, let's get the tko/win ratio per fighter data into a single list\n",
        "tko_ratio = []\n",
        "\n",
        "for f in range(len(methods)):\n",
        "  try:\n",
        "    if methods[f]=='Insufficient':\n",
        "      tko_ratio.append('Insufficient wins')\n",
        "    else:  \n",
        "      tko_ratio.append(round(len(tko[f])/len(methods[f]),2))\n",
        "  \n",
        "  except:\n",
        "    tko_ratio.append('Insufficient wins')  "
      ],
      "metadata": {
        "id": "Vb9GnrpV2Y1L"
      },
      "execution_count": 786,
      "outputs": []
    },
    {
      "cell_type": "code",
      "source": [
        "#Concatenating it to our original data\n",
        "df['tko_win_ratio'] = pd.Series(tko_ratio).to_frame()"
      ],
      "metadata": {
        "id": "056vsekRtvL1"
      },
      "execution_count": 787,
      "outputs": []
    },
    {
      "cell_type": "code",
      "source": [
        "'''Unfortunately, we'll have to lose most of our data since most fighters\n",
        "are preliminary or at least not on top 20 which means they're may have numerous \n",
        "fights overall but very few in the UFC itself. Our purpose is to conduct this\n",
        "study on fighters that have at least 5 wins in the UFC'''\n",
        "\n",
        "display(df.shape[0], df[df['tko_win_ratio']=='Insufficient wins'].shape[0])\n",
        "df = df[df['tko_win_ratio']!='Insufficient wins']"
      ],
      "metadata": {
        "id": "VzEbejdioVhq",
        "colab": {
          "base_uri": "https://localhost:8080/",
          "height": 52
        },
        "outputId": "0b6076ef-426d-4443-c37e-00c22f2ed0e6"
      },
      "execution_count": 790,
      "outputs": [
        {
          "output_type": "display_data",
          "data": {
            "text/plain": [
              "3741"
            ]
          },
          "metadata": {}
        },
        {
          "output_type": "display_data",
          "data": {
            "text/plain": [
              "3109"
            ]
          },
          "metadata": {}
        }
      ]
    },
    {
      "cell_type": "code",
      "source": [
        "df.tail()"
      ],
      "metadata": {
        "colab": {
          "base_uri": "https://localhost:8080/",
          "height": 206
        },
        "id": "0mPqrU9pQYdi",
        "outputId": "3a129089-77ec-45cc-8b0f-ceeea572ed68"
      },
      "execution_count": 792,
      "outputs": [
        {
          "output_type": "execute_result",
          "data": {
            "text/html": [
              "\n",
              "  <div id=\"df-36fb540a-7091-41cd-9742-b0361bb8bf30\">\n",
              "    <div class=\"colab-df-container\">\n",
              "      <div>\n",
              "<style scoped>\n",
              "    .dataframe tbody tr th:only-of-type {\n",
              "        vertical-align: middle;\n",
              "    }\n",
              "\n",
              "    .dataframe tbody tr th {\n",
              "        vertical-align: top;\n",
              "    }\n",
              "\n",
              "    .dataframe thead th {\n",
              "        text-align: right;\n",
              "    }\n",
              "</style>\n",
              "<table border=\"1\" class=\"dataframe\">\n",
              "  <thead>\n",
              "    <tr style=\"text-align: right;\">\n",
              "      <th></th>\n",
              "      <th>name</th>\n",
              "      <th>last_name</th>\n",
              "      <th>stance</th>\n",
              "      <th>wins</th>\n",
              "      <th>losses</th>\n",
              "      <th>SLpM</th>\n",
              "      <th>fights</th>\n",
              "      <th>tko_win_ratio</th>\n",
              "    </tr>\n",
              "  </thead>\n",
              "  <tbody>\n",
              "    <tr>\n",
              "      <th>3697</th>\n",
              "      <td>Hidehiko</td>\n",
              "      <td>Yoshida</td>\n",
              "      <td>Orthodox</td>\n",
              "      <td>6</td>\n",
              "      <td>8</td>\n",
              "      <td>1.05</td>\n",
              "      <td>14</td>\n",
              "      <td>0.0</td>\n",
              "    </tr>\n",
              "    <tr>\n",
              "      <th>3707</th>\n",
              "      <td>Sodiq</td>\n",
              "      <td>Yusuff</td>\n",
              "      <td>Orthodox</td>\n",
              "      <td>11</td>\n",
              "      <td>2</td>\n",
              "      <td>5.43</td>\n",
              "      <td>13</td>\n",
              "      <td>0.4</td>\n",
              "    </tr>\n",
              "    <tr>\n",
              "      <th>3714</th>\n",
              "      <td>Elizeu</td>\n",
              "      <td>Zaleski dos Santos</td>\n",
              "      <td>Orthodox</td>\n",
              "      <td>23</td>\n",
              "      <td>7</td>\n",
              "      <td>4.65</td>\n",
              "      <td>30</td>\n",
              "      <td>0.33</td>\n",
              "    </tr>\n",
              "    <tr>\n",
              "      <th>3717</th>\n",
              "      <td>Marius</td>\n",
              "      <td>Zaromskis</td>\n",
              "      <td>Orthodox</td>\n",
              "      <td>20</td>\n",
              "      <td>9</td>\n",
              "      <td>5.02</td>\n",
              "      <td>29</td>\n",
              "      <td>0.67</td>\n",
              "    </tr>\n",
              "    <tr>\n",
              "      <th>3726</th>\n",
              "      <td>Zhang</td>\n",
              "      <td>Weili</td>\n",
              "      <td>Switch</td>\n",
              "      <td>21</td>\n",
              "      <td>3</td>\n",
              "      <td>5.47</td>\n",
              "      <td>24</td>\n",
              "      <td>0.2</td>\n",
              "    </tr>\n",
              "  </tbody>\n",
              "</table>\n",
              "</div>\n",
              "      <button class=\"colab-df-convert\" onclick=\"convertToInteractive('df-36fb540a-7091-41cd-9742-b0361bb8bf30')\"\n",
              "              title=\"Convert this dataframe to an interactive table.\"\n",
              "              style=\"display:none;\">\n",
              "        \n",
              "  <svg xmlns=\"http://www.w3.org/2000/svg\" height=\"24px\"viewBox=\"0 0 24 24\"\n",
              "       width=\"24px\">\n",
              "    <path d=\"M0 0h24v24H0V0z\" fill=\"none\"/>\n",
              "    <path d=\"M18.56 5.44l.94 2.06.94-2.06 2.06-.94-2.06-.94-.94-2.06-.94 2.06-2.06.94zm-11 1L8.5 8.5l.94-2.06 2.06-.94-2.06-.94L8.5 2.5l-.94 2.06-2.06.94zm10 10l.94 2.06.94-2.06 2.06-.94-2.06-.94-.94-2.06-.94 2.06-2.06.94z\"/><path d=\"M17.41 7.96l-1.37-1.37c-.4-.4-.92-.59-1.43-.59-.52 0-1.04.2-1.43.59L10.3 9.45l-7.72 7.72c-.78.78-.78 2.05 0 2.83L4 21.41c.39.39.9.59 1.41.59.51 0 1.02-.2 1.41-.59l7.78-7.78 2.81-2.81c.8-.78.8-2.07 0-2.86zM5.41 20L4 18.59l7.72-7.72 1.47 1.35L5.41 20z\"/>\n",
              "  </svg>\n",
              "      </button>\n",
              "      \n",
              "  <style>\n",
              "    .colab-df-container {\n",
              "      display:flex;\n",
              "      flex-wrap:wrap;\n",
              "      gap: 12px;\n",
              "    }\n",
              "\n",
              "    .colab-df-convert {\n",
              "      background-color: #E8F0FE;\n",
              "      border: none;\n",
              "      border-radius: 50%;\n",
              "      cursor: pointer;\n",
              "      display: none;\n",
              "      fill: #1967D2;\n",
              "      height: 32px;\n",
              "      padding: 0 0 0 0;\n",
              "      width: 32px;\n",
              "    }\n",
              "\n",
              "    .colab-df-convert:hover {\n",
              "      background-color: #E2EBFA;\n",
              "      box-shadow: 0px 1px 2px rgba(60, 64, 67, 0.3), 0px 1px 3px 1px rgba(60, 64, 67, 0.15);\n",
              "      fill: #174EA6;\n",
              "    }\n",
              "\n",
              "    [theme=dark] .colab-df-convert {\n",
              "      background-color: #3B4455;\n",
              "      fill: #D2E3FC;\n",
              "    }\n",
              "\n",
              "    [theme=dark] .colab-df-convert:hover {\n",
              "      background-color: #434B5C;\n",
              "      box-shadow: 0px 1px 3px 1px rgba(0, 0, 0, 0.15);\n",
              "      filter: drop-shadow(0px 1px 2px rgba(0, 0, 0, 0.3));\n",
              "      fill: #FFFFFF;\n",
              "    }\n",
              "  </style>\n",
              "\n",
              "      <script>\n",
              "        const buttonEl =\n",
              "          document.querySelector('#df-36fb540a-7091-41cd-9742-b0361bb8bf30 button.colab-df-convert');\n",
              "        buttonEl.style.display =\n",
              "          google.colab.kernel.accessAllowed ? 'block' : 'none';\n",
              "\n",
              "        async function convertToInteractive(key) {\n",
              "          const element = document.querySelector('#df-36fb540a-7091-41cd-9742-b0361bb8bf30');\n",
              "          const dataTable =\n",
              "            await google.colab.kernel.invokeFunction('convertToInteractive',\n",
              "                                                     [key], {});\n",
              "          if (!dataTable) return;\n",
              "\n",
              "          const docLinkHtml = 'Like what you see? Visit the ' +\n",
              "            '<a target=\"_blank\" href=https://colab.research.google.com/notebooks/data_table.ipynb>data table notebook</a>'\n",
              "            + ' to learn more about interactive tables.';\n",
              "          element.innerHTML = '';\n",
              "          dataTable['output_type'] = 'display_data';\n",
              "          await google.colab.output.renderOutput(dataTable, element);\n",
              "          const docLink = document.createElement('div');\n",
              "          docLink.innerHTML = docLinkHtml;\n",
              "          element.appendChild(docLink);\n",
              "        }\n",
              "      </script>\n",
              "    </div>\n",
              "  </div>\n",
              "  "
            ],
            "text/plain": [
              "          name           last_name    stance  wins  losses  SLpM  fights  \\\n",
              "3697  Hidehiko             Yoshida  Orthodox     6       8  1.05      14   \n",
              "3707     Sodiq              Yusuff  Orthodox    11       2  5.43      13   \n",
              "3714    Elizeu  Zaleski dos Santos  Orthodox    23       7  4.65      30   \n",
              "3717    Marius           Zaromskis  Orthodox    20       9  5.02      29   \n",
              "3726     Zhang               Weili    Switch    21       3  5.47      24   \n",
              "\n",
              "     tko_win_ratio  \n",
              "3697           0.0  \n",
              "3707           0.4  \n",
              "3714          0.33  \n",
              "3717          0.67  \n",
              "3726           0.2  "
            ]
          },
          "metadata": {},
          "execution_count": 792
        }
      ]
    },
    {
      "cell_type": "code",
      "source": [
        "#Saving this data\n",
        "from google.colab import files\n",
        "df.to_csv('fighter_stance_tko.csv')\n",
        "files.download('fighter_stance_tko.csv')"
      ],
      "metadata": {
        "id": "lgQvQh2HixEI",
        "colab": {
          "base_uri": "https://localhost:8080/",
          "height": 17
        },
        "outputId": "72d979a7-25e0-4138-c6f2-136194928114"
      },
      "execution_count": 793,
      "outputs": [
        {
          "output_type": "display_data",
          "data": {
            "application/javascript": [
              "\n",
              "    async function download(id, filename, size) {\n",
              "      if (!google.colab.kernel.accessAllowed) {\n",
              "        return;\n",
              "      }\n",
              "      const div = document.createElement('div');\n",
              "      const label = document.createElement('label');\n",
              "      label.textContent = `Downloading \"${filename}\": `;\n",
              "      div.appendChild(label);\n",
              "      const progress = document.createElement('progress');\n",
              "      progress.max = size;\n",
              "      div.appendChild(progress);\n",
              "      document.body.appendChild(div);\n",
              "\n",
              "      const buffers = [];\n",
              "      let downloaded = 0;\n",
              "\n",
              "      const channel = await google.colab.kernel.comms.open(id);\n",
              "      // Send a message to notify the kernel that we're ready.\n",
              "      channel.send({})\n",
              "\n",
              "      for await (const message of channel.messages) {\n",
              "        // Send a message to notify the kernel that we're ready.\n",
              "        channel.send({})\n",
              "        if (message.buffers) {\n",
              "          for (const buffer of message.buffers) {\n",
              "            buffers.push(buffer);\n",
              "            downloaded += buffer.byteLength;\n",
              "            progress.value = downloaded;\n",
              "          }\n",
              "        }\n",
              "      }\n",
              "      const blob = new Blob(buffers, {type: 'application/binary'});\n",
              "      const a = document.createElement('a');\n",
              "      a.href = window.URL.createObjectURL(blob);\n",
              "      a.download = filename;\n",
              "      div.appendChild(a);\n",
              "      a.click();\n",
              "      div.remove();\n",
              "    }\n",
              "  "
            ],
            "text/plain": [
              "<IPython.core.display.Javascript object>"
            ]
          },
          "metadata": {}
        },
        {
          "output_type": "display_data",
          "data": {
            "application/javascript": [
              "download(\"download_ca8b0097-6909-45b8-8f57-129955d6dc06\", \"fighter_stance_tko.csv\", 28841)"
            ],
            "text/plain": [
              "<IPython.core.display.Javascript object>"
            ]
          },
          "metadata": {}
        }
      ]
    },
    {
      "cell_type": "code",
      "source": [
        "'''The initial view suggests that Switch fighters yet again have an advantage, \n",
        "however, this isn't conclusive without the tests which is to be conducted in\n",
        "the next notebook'''\n",
        "\n",
        "df.groupby('stance')['tko_win_ratio'].agg(['mean', 'count', 'median', 'std']) "
      ],
      "metadata": {
        "colab": {
          "base_uri": "https://localhost:8080/",
          "height": 206
        },
        "id": "Ss6MzDnDCbF9",
        "outputId": "432e5c43-bf09-4b6c-cddb-a82c127ed7a6"
      },
      "execution_count": 796,
      "outputs": [
        {
          "output_type": "execute_result",
          "data": {
            "text/html": [
              "\n",
              "  <div id=\"df-98a049c1-4c3e-4d7b-b542-3a0d2eec4bf4\">\n",
              "    <div class=\"colab-df-container\">\n",
              "      <div>\n",
              "<style scoped>\n",
              "    .dataframe tbody tr th:only-of-type {\n",
              "        vertical-align: middle;\n",
              "    }\n",
              "\n",
              "    .dataframe tbody tr th {\n",
              "        vertical-align: top;\n",
              "    }\n",
              "\n",
              "    .dataframe thead th {\n",
              "        text-align: right;\n",
              "    }\n",
              "</style>\n",
              "<table border=\"1\" class=\"dataframe\">\n",
              "  <thead>\n",
              "    <tr style=\"text-align: right;\">\n",
              "      <th></th>\n",
              "      <th>mean</th>\n",
              "      <th>count</th>\n",
              "      <th>median</th>\n",
              "      <th>std</th>\n",
              "    </tr>\n",
              "    <tr>\n",
              "      <th>stance</th>\n",
              "      <th></th>\n",
              "      <th></th>\n",
              "      <th></th>\n",
              "      <th></th>\n",
              "    </tr>\n",
              "  </thead>\n",
              "  <tbody>\n",
              "    <tr>\n",
              "      <th>Open Stance</th>\n",
              "      <td>0.520000</td>\n",
              "      <td>2</td>\n",
              "      <td>0.520</td>\n",
              "      <td>0.268701</td>\n",
              "    </tr>\n",
              "    <tr>\n",
              "      <th>Orthodox</th>\n",
              "      <td>0.341983</td>\n",
              "      <td>479</td>\n",
              "      <td>0.330</td>\n",
              "      <td>0.239193</td>\n",
              "    </tr>\n",
              "    <tr>\n",
              "      <th>Southpaw</th>\n",
              "      <td>0.325354</td>\n",
              "      <td>127</td>\n",
              "      <td>0.310</td>\n",
              "      <td>0.254495</td>\n",
              "    </tr>\n",
              "    <tr>\n",
              "      <th>Switch</th>\n",
              "      <td>0.385833</td>\n",
              "      <td>24</td>\n",
              "      <td>0.415</td>\n",
              "      <td>0.269507</td>\n",
              "    </tr>\n",
              "  </tbody>\n",
              "</table>\n",
              "</div>\n",
              "      <button class=\"colab-df-convert\" onclick=\"convertToInteractive('df-98a049c1-4c3e-4d7b-b542-3a0d2eec4bf4')\"\n",
              "              title=\"Convert this dataframe to an interactive table.\"\n",
              "              style=\"display:none;\">\n",
              "        \n",
              "  <svg xmlns=\"http://www.w3.org/2000/svg\" height=\"24px\"viewBox=\"0 0 24 24\"\n",
              "       width=\"24px\">\n",
              "    <path d=\"M0 0h24v24H0V0z\" fill=\"none\"/>\n",
              "    <path d=\"M18.56 5.44l.94 2.06.94-2.06 2.06-.94-2.06-.94-.94-2.06-.94 2.06-2.06.94zm-11 1L8.5 8.5l.94-2.06 2.06-.94-2.06-.94L8.5 2.5l-.94 2.06-2.06.94zm10 10l.94 2.06.94-2.06 2.06-.94-2.06-.94-.94-2.06-.94 2.06-2.06.94z\"/><path d=\"M17.41 7.96l-1.37-1.37c-.4-.4-.92-.59-1.43-.59-.52 0-1.04.2-1.43.59L10.3 9.45l-7.72 7.72c-.78.78-.78 2.05 0 2.83L4 21.41c.39.39.9.59 1.41.59.51 0 1.02-.2 1.41-.59l7.78-7.78 2.81-2.81c.8-.78.8-2.07 0-2.86zM5.41 20L4 18.59l7.72-7.72 1.47 1.35L5.41 20z\"/>\n",
              "  </svg>\n",
              "      </button>\n",
              "      \n",
              "  <style>\n",
              "    .colab-df-container {\n",
              "      display:flex;\n",
              "      flex-wrap:wrap;\n",
              "      gap: 12px;\n",
              "    }\n",
              "\n",
              "    .colab-df-convert {\n",
              "      background-color: #E8F0FE;\n",
              "      border: none;\n",
              "      border-radius: 50%;\n",
              "      cursor: pointer;\n",
              "      display: none;\n",
              "      fill: #1967D2;\n",
              "      height: 32px;\n",
              "      padding: 0 0 0 0;\n",
              "      width: 32px;\n",
              "    }\n",
              "\n",
              "    .colab-df-convert:hover {\n",
              "      background-color: #E2EBFA;\n",
              "      box-shadow: 0px 1px 2px rgba(60, 64, 67, 0.3), 0px 1px 3px 1px rgba(60, 64, 67, 0.15);\n",
              "      fill: #174EA6;\n",
              "    }\n",
              "\n",
              "    [theme=dark] .colab-df-convert {\n",
              "      background-color: #3B4455;\n",
              "      fill: #D2E3FC;\n",
              "    }\n",
              "\n",
              "    [theme=dark] .colab-df-convert:hover {\n",
              "      background-color: #434B5C;\n",
              "      box-shadow: 0px 1px 3px 1px rgba(0, 0, 0, 0.15);\n",
              "      filter: drop-shadow(0px 1px 2px rgba(0, 0, 0, 0.3));\n",
              "      fill: #FFFFFF;\n",
              "    }\n",
              "  </style>\n",
              "\n",
              "      <script>\n",
              "        const buttonEl =\n",
              "          document.querySelector('#df-98a049c1-4c3e-4d7b-b542-3a0d2eec4bf4 button.colab-df-convert');\n",
              "        buttonEl.style.display =\n",
              "          google.colab.kernel.accessAllowed ? 'block' : 'none';\n",
              "\n",
              "        async function convertToInteractive(key) {\n",
              "          const element = document.querySelector('#df-98a049c1-4c3e-4d7b-b542-3a0d2eec4bf4');\n",
              "          const dataTable =\n",
              "            await google.colab.kernel.invokeFunction('convertToInteractive',\n",
              "                                                     [key], {});\n",
              "          if (!dataTable) return;\n",
              "\n",
              "          const docLinkHtml = 'Like what you see? Visit the ' +\n",
              "            '<a target=\"_blank\" href=https://colab.research.google.com/notebooks/data_table.ipynb>data table notebook</a>'\n",
              "            + ' to learn more about interactive tables.';\n",
              "          element.innerHTML = '';\n",
              "          dataTable['output_type'] = 'display_data';\n",
              "          await google.colab.output.renderOutput(dataTable, element);\n",
              "          const docLink = document.createElement('div');\n",
              "          docLink.innerHTML = docLinkHtml;\n",
              "          element.appendChild(docLink);\n",
              "        }\n",
              "      </script>\n",
              "    </div>\n",
              "  </div>\n",
              "  "
            ],
            "text/plain": [
              "                 mean  count  median       std\n",
              "stance                                        \n",
              "Open Stance  0.520000      2   0.520  0.268701\n",
              "Orthodox     0.341983    479   0.330  0.239193\n",
              "Southpaw     0.325354    127   0.310  0.254495\n",
              "Switch       0.385833     24   0.415  0.269507"
            ]
          },
          "metadata": {},
          "execution_count": 796
        }
      ]
    }
  ]
}