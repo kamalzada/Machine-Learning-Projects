{
  "nbformat": 4,
  "nbformat_minor": 0,
  "metadata": {
    "colab": {
      "name": "fighter_SLpM_scraped.ipynb",
      "provenance": [],
      "collapsed_sections": [],
      "authorship_tag": "ABX9TyNJHW7gzABMO0iszuDPqH6D",
      "include_colab_link": true
    },
    "kernelspec": {
      "name": "python3",
      "display_name": "Python 3"
    },
    "language_info": {
      "name": "python"
    }
  },
  "cells": [
    {
      "cell_type": "markdown",
      "metadata": {
        "id": "view-in-github",
        "colab_type": "text"
      },
      "source": [
        "<a href=\"https://colab.research.google.com/github/kamalzada/Machine-Learning-Projects/blob/master/fighter_SLpM_scraped.ipynb\" target=\"_parent\"><img src=\"https://colab.research.google.com/assets/colab-badge.svg\" alt=\"Open In Colab\"/></a>"
      ]
    },
    {
      "cell_type": "code",
      "execution_count": 78,
      "metadata": {
        "id": "-C2WKnI9XhXx"
      },
      "outputs": [],
      "source": [
        "# For web scraping\n",
        "import requests\n",
        "from bs4 import BeautifulSoup\n",
        "\n",
        "# For data cleaning/feature engineering\n",
        "import numpy as np\n",
        "import pandas as pd\n",
        "\n",
        "# For visualization\n",
        "import seaborn as sns\n",
        "import matplotlib.pyplot as plt\n",
        "\n",
        "#For statistical tests\n",
        "import pingouin as pg\n",
        "\n",
        "#Miscellaneous\n",
        "import string"
      ]
    },
    {
      "cell_type": "code",
      "source": [
        "letters = string.ascii_lowercase\n",
        "fighter_stats = {}\n",
        "\n",
        "for letter in letters:\n",
        "    pages = requests.get(f'http://ufcstats.com/statistics/fighters?char={letter}&page=all')\n",
        "    soup = BeautifulSoup(pages.text, 'lxml')   \n",
        "    fighter_stats[letter] = (soup.find_all('td', attrs = {'class': \"b-statistics__table-col\"}))  "
      ],
      "metadata": {
        "id": "Fwl_nviUXjw5"
      },
      "execution_count": null,
      "outputs": []
    },
    {
      "cell_type": "code",
      "source": [
        "fighter_stats['b'][0].text.split('\\n')[1]"
      ],
      "metadata": {
        "colab": {
          "base_uri": "https://localhost:8080/",
          "height": 35
        },
        "id": "HT3g9a2xHLwN",
        "outputId": "a4c3e3e7-315c-4d35-8f45-2e4c10157d40"
      },
      "execution_count": 80,
      "outputs": [
        {
          "output_type": "execute_result",
          "data": {
            "application/vnd.google.colaboratory.intrinsic+json": {
              "type": "string"
            },
            "text/plain": [
              "'Niklas'"
            ]
          },
          "metadata": {},
          "execution_count": 80
        }
      ]
    },
    {
      "cell_type": "code",
      "source": [
        "fighter_first_names = []\n",
        "\n",
        "for key, value in fighter_stats.items():\n",
        "    for fighter in np.arange(0, len(fighter_stats[key]), 11):\n",
        "        fighter_first_name = value[fighter].text.split(\"\\n\")[1]\n",
        "        fighter_first_names.append(fighter_first_name)\n",
        "fighter_first_names = pd.Series(fighter_first_names)        "
      ],
      "metadata": {
        "id": "w70mDd1mXuKD"
      },
      "execution_count": null,
      "outputs": []
    },
    {
      "cell_type": "code",
      "source": [
        "fighter_last_names = []\n",
        "\n",
        "for key, value in fighter_stats.items():\n",
        "    for fighter in np.arange(1, len(fighter_stats[key]) + 1, 11):\n",
        "        fighter_last_name = value[fighter].text.split(\"\\n\")[1]\n",
        "        fighter_last_names.append(fighter_last_name)\n",
        "fighter_last_names = pd.Series(fighter_last_names)        "
      ],
      "metadata": {
        "id": "hjbZxLJrX2aq"
      },
      "execution_count": null,
      "outputs": []
    },
    {
      "cell_type": "code",
      "source": [
        "fighter_stances = []\n",
        "\n",
        "for key, value in fighter_stats.items():\n",
        "    for fighter in np.arange(6, len(fighter_stats[key]) + 6, 11):\n",
        "        fighter_stance = value[fighter].text.split(\"\\n\")[1][10:]\n",
        "        fighter_stances.append(fighter_stance)\n",
        "fighter_stances = pd.Series(fighter_stances)        "
      ],
      "metadata": {
        "id": "VVocv4HEX4lj"
      },
      "execution_count": null,
      "outputs": []
    },
    {
      "cell_type": "code",
      "source": [
        "fighter_losses = []\n",
        "\n",
        "for key, value in fighter_stats.items():\n",
        "    for fighter in np.arange(8, len(fighter_stats[key]) + 8, 11):\n",
        "        fighter_loss = value[fighter].text.split(\"\\n\")[1][10:]\n",
        "        fighter_losses.append(fighter_loss)\n",
        "fighter_losses = pd.Series(fighter_losses)"
      ],
      "metadata": {
        "id": "wGSw4wlwRq8j"
      },
      "execution_count": null,
      "outputs": []
    },
    {
      "cell_type": "code",
      "source": [
        "fighter_wins = []\n",
        "\n",
        "for key, value in fighter_stats.items():\n",
        "    for fighter in np.arange(7, len(fighter_stats[key]) + 7, 11):\n",
        "        fighter_win = value[fighter].text.split(\"\\n\")[1][10:]\n",
        "        fighter_wins.append(fighter_win)\n",
        "fighter_wins = pd.Series(fighter_wins)"
      ],
      "metadata": {
        "id": "fpcIFijGRuqt"
      },
      "execution_count": null,
      "outputs": []
    },
    {
      "cell_type": "code",
      "source": [
        "df = pd.concat([fighter_first_names, fighter_last_names, fighter_stances, fighter_wins, fighter_losses], \n",
        "          keys = ['name', 'last_name', 'stance', 'wins', 'losses'], axis=1)"
      ],
      "metadata": {
        "id": "MKPMar00X6uQ"
      },
      "execution_count": null,
      "outputs": []
    },
    {
      "cell_type": "code",
      "source": [
        "df.tail()"
      ],
      "metadata": {
        "colab": {
          "base_uri": "https://localhost:8080/",
          "height": 206
        },
        "id": "BEFuh0SZLVge",
        "outputId": "c79a68e5-a8f3-45e2-b357-799ee096937a"
      },
      "execution_count": null,
      "outputs": [
        {
          "output_type": "execute_result",
          "data": {
            "text/html": [
              "\n",
              "  <div id=\"df-9d105212-a352-4966-b46a-f65494668b7a\">\n",
              "    <div class=\"colab-df-container\">\n",
              "      <div>\n",
              "<style scoped>\n",
              "    .dataframe tbody tr th:only-of-type {\n",
              "        vertical-align: middle;\n",
              "    }\n",
              "\n",
              "    .dataframe tbody tr th {\n",
              "        vertical-align: top;\n",
              "    }\n",
              "\n",
              "    .dataframe thead th {\n",
              "        text-align: right;\n",
              "    }\n",
              "</style>\n",
              "<table border=\"1\" class=\"dataframe\">\n",
              "  <thead>\n",
              "    <tr style=\"text-align: right;\">\n",
              "      <th></th>\n",
              "      <th>name</th>\n",
              "      <th>last_name</th>\n",
              "      <th>stance</th>\n",
              "      <th>wins</th>\n",
              "      <th>losses</th>\n",
              "    </tr>\n",
              "  </thead>\n",
              "  <tbody>\n",
              "    <tr>\n",
              "      <th>3736</th>\n",
              "      <td>Dave</td>\n",
              "      <td>Zitanick</td>\n",
              "      <td></td>\n",
              "      <td>5</td>\n",
              "      <td>7</td>\n",
              "    </tr>\n",
              "    <tr>\n",
              "      <th>3737</th>\n",
              "      <td>Alex</td>\n",
              "      <td>Zuniga</td>\n",
              "      <td></td>\n",
              "      <td>6</td>\n",
              "      <td>3</td>\n",
              "    </tr>\n",
              "    <tr>\n",
              "      <th>3738</th>\n",
              "      <td>George</td>\n",
              "      <td>Zuniga</td>\n",
              "      <td></td>\n",
              "      <td>3</td>\n",
              "      <td>1</td>\n",
              "    </tr>\n",
              "    <tr>\n",
              "      <th>3739</th>\n",
              "      <td>Allan</td>\n",
              "      <td>Zuniga</td>\n",
              "      <td>Orthodox</td>\n",
              "      <td>13</td>\n",
              "      <td>1</td>\n",
              "    </tr>\n",
              "    <tr>\n",
              "      <th>3740</th>\n",
              "      <td>Virgil</td>\n",
              "      <td>Zwicker</td>\n",
              "      <td></td>\n",
              "      <td>15</td>\n",
              "      <td>6</td>\n",
              "    </tr>\n",
              "  </tbody>\n",
              "</table>\n",
              "</div>\n",
              "      <button class=\"colab-df-convert\" onclick=\"convertToInteractive('df-9d105212-a352-4966-b46a-f65494668b7a')\"\n",
              "              title=\"Convert this dataframe to an interactive table.\"\n",
              "              style=\"display:none;\">\n",
              "        \n",
              "  <svg xmlns=\"http://www.w3.org/2000/svg\" height=\"24px\"viewBox=\"0 0 24 24\"\n",
              "       width=\"24px\">\n",
              "    <path d=\"M0 0h24v24H0V0z\" fill=\"none\"/>\n",
              "    <path d=\"M18.56 5.44l.94 2.06.94-2.06 2.06-.94-2.06-.94-.94-2.06-.94 2.06-2.06.94zm-11 1L8.5 8.5l.94-2.06 2.06-.94-2.06-.94L8.5 2.5l-.94 2.06-2.06.94zm10 10l.94 2.06.94-2.06 2.06-.94-2.06-.94-.94-2.06-.94 2.06-2.06.94z\"/><path d=\"M17.41 7.96l-1.37-1.37c-.4-.4-.92-.59-1.43-.59-.52 0-1.04.2-1.43.59L10.3 9.45l-7.72 7.72c-.78.78-.78 2.05 0 2.83L4 21.41c.39.39.9.59 1.41.59.51 0 1.02-.2 1.41-.59l7.78-7.78 2.81-2.81c.8-.78.8-2.07 0-2.86zM5.41 20L4 18.59l7.72-7.72 1.47 1.35L5.41 20z\"/>\n",
              "  </svg>\n",
              "      </button>\n",
              "      \n",
              "  <style>\n",
              "    .colab-df-container {\n",
              "      display:flex;\n",
              "      flex-wrap:wrap;\n",
              "      gap: 12px;\n",
              "    }\n",
              "\n",
              "    .colab-df-convert {\n",
              "      background-color: #E8F0FE;\n",
              "      border: none;\n",
              "      border-radius: 50%;\n",
              "      cursor: pointer;\n",
              "      display: none;\n",
              "      fill: #1967D2;\n",
              "      height: 32px;\n",
              "      padding: 0 0 0 0;\n",
              "      width: 32px;\n",
              "    }\n",
              "\n",
              "    .colab-df-convert:hover {\n",
              "      background-color: #E2EBFA;\n",
              "      box-shadow: 0px 1px 2px rgba(60, 64, 67, 0.3), 0px 1px 3px 1px rgba(60, 64, 67, 0.15);\n",
              "      fill: #174EA6;\n",
              "    }\n",
              "\n",
              "    [theme=dark] .colab-df-convert {\n",
              "      background-color: #3B4455;\n",
              "      fill: #D2E3FC;\n",
              "    }\n",
              "\n",
              "    [theme=dark] .colab-df-convert:hover {\n",
              "      background-color: #434B5C;\n",
              "      box-shadow: 0px 1px 3px 1px rgba(0, 0, 0, 0.15);\n",
              "      filter: drop-shadow(0px 1px 2px rgba(0, 0, 0, 0.3));\n",
              "      fill: #FFFFFF;\n",
              "    }\n",
              "  </style>\n",
              "\n",
              "      <script>\n",
              "        const buttonEl =\n",
              "          document.querySelector('#df-9d105212-a352-4966-b46a-f65494668b7a button.colab-df-convert');\n",
              "        buttonEl.style.display =\n",
              "          google.colab.kernel.accessAllowed ? 'block' : 'none';\n",
              "\n",
              "        async function convertToInteractive(key) {\n",
              "          const element = document.querySelector('#df-9d105212-a352-4966-b46a-f65494668b7a');\n",
              "          const dataTable =\n",
              "            await google.colab.kernel.invokeFunction('convertToInteractive',\n",
              "                                                     [key], {});\n",
              "          if (!dataTable) return;\n",
              "\n",
              "          const docLinkHtml = 'Like what you see? Visit the ' +\n",
              "            '<a target=\"_blank\" href=https://colab.research.google.com/notebooks/data_table.ipynb>data table notebook</a>'\n",
              "            + ' to learn more about interactive tables.';\n",
              "          element.innerHTML = '';\n",
              "          dataTable['output_type'] = 'display_data';\n",
              "          await google.colab.output.renderOutput(dataTable, element);\n",
              "          const docLink = document.createElement('div');\n",
              "          docLink.innerHTML = docLinkHtml;\n",
              "          element.appendChild(docLink);\n",
              "        }\n",
              "      </script>\n",
              "    </div>\n",
              "  </div>\n",
              "  "
            ],
            "text/plain": [
              "        name last_name    stance wins losses\n",
              "3736    Dave  Zitanick              5      7\n",
              "3737    Alex    Zuniga              6      3\n",
              "3738  George    Zuniga              3      1\n",
              "3739   Allan    Zuniga  Orthodox   13      1\n",
              "3740  Virgil   Zwicker             15      6"
            ]
          },
          "metadata": {},
          "execution_count": 64
        }
      ]
    },
    {
      "cell_type": "code",
      "source": [
        "#Missing stance records\n",
        "df[df['stance']==''].shape[0]"
      ],
      "metadata": {
        "colab": {
          "base_uri": "https://localhost:8080/"
        },
        "id": "Y3dw-5S-3bdK",
        "outputId": "ad644a63-718a-4b7b-bfc5-f7de1c030957"
      },
      "execution_count": null,
      "outputs": [
        {
          "output_type": "execute_result",
          "data": {
            "text/plain": [
              "808"
            ]
          },
          "metadata": {},
          "execution_count": 70
        }
      ]
    },
    {
      "cell_type": "code",
      "source": [
        "letters = string.ascii_lowercase\n",
        "fighter_ids = {}\n",
        "\n",
        "for letter in letters:\n",
        "    pages = requests.get(f'http://ufcstats.com/statistics/fighters?char={letter}&page=all')\n",
        "    soup = BeautifulSoup(pages.text, 'lxml')   \n",
        "    fighter_ids[letter] = soup.find_all('a', attrs = {'class': \"b-link b-link_style_black\"}) "
      ],
      "metadata": {
        "id": "HVvsG-whX9D-"
      },
      "execution_count": null,
      "outputs": []
    },
    {
      "cell_type": "code",
      "source": [
        "#Extract pure links to send request to\n",
        "fighter_links = []\n",
        "\n",
        "for letter in letters:\n",
        "    for fighter in fighter_ids[letter]:\n",
        "        fighter_links.append(fighter['href'])"
      ],
      "metadata": {
        "id": "tccXxvPCYD_0"
      },
      "execution_count": null,
      "outputs": []
    },
    {
      "cell_type": "code",
      "source": [
        "fighter_links = list(pd.Series(fighter_links).to_frame()[0].unique())"
      ],
      "metadata": {
        "id": "TgGeg1fZ0zwe"
      },
      "execution_count": null,
      "outputs": []
    },
    {
      "cell_type": "code",
      "source": [
        "#Number of fighter's links that we'll loop through\n",
        "len(fighter_links)"
      ],
      "metadata": {
        "colab": {
          "base_uri": "https://localhost:8080/"
        },
        "id": "v19CvpbA5z3O",
        "outputId": "ae52f532-b3aa-42ca-8abd-a0fcfaf80e09"
      },
      "execution_count": null,
      "outputs": [
        {
          "output_type": "execute_result",
          "data": {
            "text/plain": [
              "3741"
            ]
          },
          "metadata": {},
          "execution_count": 74
        }
      ]
    },
    {
      "cell_type": "code",
      "source": [
        "%%time\n",
        "fighter_str = {}\n",
        "\n",
        "for link in fighter_links: \n",
        "  pages = requests.get(f'{link}')\n",
        "  soup = BeautifulSoup(pages.text, 'lxml')   \n",
        "  fighter_str[link] = soup.find_all('li', attrs = {'class': \"b-list__box-list-item b-list__box-list-item_type_block\"}) "
      ],
      "metadata": {
        "id": "cLQ-U9vqoM-Y",
        "colab": {
          "base_uri": "https://localhost:8080/"
        },
        "outputId": "b39baedb-6789-4905-c35a-270fba3edce4"
      },
      "execution_count": 415,
      "outputs": [
        {
          "output_type": "stream",
          "name": "stdout",
          "text": [
            "CPU times: user 1min 44s, sys: 2.96 s, total: 1min 47s\n",
            "Wall time: 20min 57s\n"
          ]
        }
      ]
    },
    {
      "cell_type": "code",
      "source": [
        "#Figuring out which row to choose just like previous\n",
        "fighter_str['http://ufcstats.com/fighter-details/1c5879330d42255f'][5].text.split('\\n')[5][9:] "
      ],
      "metadata": {
        "id": "eBWnb95-a7jJ",
        "colab": {
          "base_uri": "https://localhost:8080/",
          "height": 35
        },
        "outputId": "62f0d142-3f92-496c-e308-4d4ce23ae897"
      },
      "execution_count": 416,
      "outputs": [
        {
          "output_type": "execute_result",
          "data": {
            "application/vnd.google.colaboratory.intrinsic+json": {
              "type": "string"
            },
            "text/plain": [
              "' 3.52'"
            ]
          },
          "metadata": {},
          "execution_count": 416
        }
      ]
    },
    {
      "cell_type": "code",
      "source": [
        "SLpM = []\n",
        "\n",
        "for link in fighter_links:\n",
        "  SLpM.append(fighter_str[link][5].text.split('\\n')[5][9:])  "
      ],
      "metadata": {
        "id": "dPSGOvxvoMxO"
      },
      "execution_count": 417,
      "outputs": []
    },
    {
      "cell_type": "code",
      "source": [
        "SLpM = [f.strip() for f in SLpM]"
      ],
      "metadata": {
        "id": "vn-ua6hbzqVR"
      },
      "execution_count": 420,
      "outputs": []
    },
    {
      "cell_type": "code",
      "source": [
        "df['SLpM'] = pd.Series(SLpM).to_frame()  "
      ],
      "metadata": {
        "id": "62PHMaLFZxfi"
      },
      "execution_count": 422,
      "outputs": []
    },
    {
      "cell_type": "code",
      "source": [
        "#Checking the values with the website. No problem.\n",
        "df[df['name']=='Israel']"
      ],
      "metadata": {
        "id": "G7VwEnCKZxTj",
        "colab": {
          "base_uri": "https://localhost:8080/",
          "height": 175
        },
        "outputId": "f2bdd1e2-fe7b-4eff-f57f-92b0ebf3c7e3"
      },
      "execution_count": 424,
      "outputs": [
        {
          "output_type": "execute_result",
          "data": {
            "text/html": [
              "\n",
              "  <div id=\"df-8caecc14-d2ba-4a06-a9e5-5b6d3c168468\">\n",
              "    <div class=\"colab-df-container\">\n",
              "      <div>\n",
              "<style scoped>\n",
              "    .dataframe tbody tr th:only-of-type {\n",
              "        vertical-align: middle;\n",
              "    }\n",
              "\n",
              "    .dataframe tbody tr th {\n",
              "        vertical-align: top;\n",
              "    }\n",
              "\n",
              "    .dataframe thead th {\n",
              "        text-align: right;\n",
              "    }\n",
              "</style>\n",
              "<table border=\"1\" class=\"dataframe\">\n",
              "  <thead>\n",
              "    <tr style=\"text-align: right;\">\n",
              "      <th></th>\n",
              "      <th>name</th>\n",
              "      <th>last_name</th>\n",
              "      <th>stance</th>\n",
              "      <th>wins</th>\n",
              "      <th>losses</th>\n",
              "      <th>SLpM</th>\n",
              "    </tr>\n",
              "  </thead>\n",
              "  <tbody>\n",
              "    <tr>\n",
              "      <th>14</th>\n",
              "      <td>Israel</td>\n",
              "      <td>Adesanya</td>\n",
              "      <td>Switch</td>\n",
              "      <td>22</td>\n",
              "      <td>1</td>\n",
              "      <td>3.84</td>\n",
              "    </tr>\n",
              "    <tr>\n",
              "      <th>40</th>\n",
              "      <td>Israel</td>\n",
              "      <td>Albuquerque</td>\n",
              "      <td>Orthodox</td>\n",
              "      <td>0</td>\n",
              "      <td>3</td>\n",
              "      <td>0.32</td>\n",
              "    </tr>\n",
              "    <tr>\n",
              "      <th>769</th>\n",
              "      <td>Israel</td>\n",
              "      <td>Delgado</td>\n",
              "      <td></td>\n",
              "      <td>0</td>\n",
              "      <td>2</td>\n",
              "      <td>0.00</td>\n",
              "    </tr>\n",
              "    <tr>\n",
              "      <th>1161</th>\n",
              "      <td>Israel</td>\n",
              "      <td>Giron</td>\n",
              "      <td></td>\n",
              "      <td>19</td>\n",
              "      <td>5</td>\n",
              "      <td>0.00</td>\n",
              "    </tr>\n",
              "  </tbody>\n",
              "</table>\n",
              "</div>\n",
              "      <button class=\"colab-df-convert\" onclick=\"convertToInteractive('df-8caecc14-d2ba-4a06-a9e5-5b6d3c168468')\"\n",
              "              title=\"Convert this dataframe to an interactive table.\"\n",
              "              style=\"display:none;\">\n",
              "        \n",
              "  <svg xmlns=\"http://www.w3.org/2000/svg\" height=\"24px\"viewBox=\"0 0 24 24\"\n",
              "       width=\"24px\">\n",
              "    <path d=\"M0 0h24v24H0V0z\" fill=\"none\"/>\n",
              "    <path d=\"M18.56 5.44l.94 2.06.94-2.06 2.06-.94-2.06-.94-.94-2.06-.94 2.06-2.06.94zm-11 1L8.5 8.5l.94-2.06 2.06-.94-2.06-.94L8.5 2.5l-.94 2.06-2.06.94zm10 10l.94 2.06.94-2.06 2.06-.94-2.06-.94-.94-2.06-.94 2.06-2.06.94z\"/><path d=\"M17.41 7.96l-1.37-1.37c-.4-.4-.92-.59-1.43-.59-.52 0-1.04.2-1.43.59L10.3 9.45l-7.72 7.72c-.78.78-.78 2.05 0 2.83L4 21.41c.39.39.9.59 1.41.59.51 0 1.02-.2 1.41-.59l7.78-7.78 2.81-2.81c.8-.78.8-2.07 0-2.86zM5.41 20L4 18.59l7.72-7.72 1.47 1.35L5.41 20z\"/>\n",
              "  </svg>\n",
              "      </button>\n",
              "      \n",
              "  <style>\n",
              "    .colab-df-container {\n",
              "      display:flex;\n",
              "      flex-wrap:wrap;\n",
              "      gap: 12px;\n",
              "    }\n",
              "\n",
              "    .colab-df-convert {\n",
              "      background-color: #E8F0FE;\n",
              "      border: none;\n",
              "      border-radius: 50%;\n",
              "      cursor: pointer;\n",
              "      display: none;\n",
              "      fill: #1967D2;\n",
              "      height: 32px;\n",
              "      padding: 0 0 0 0;\n",
              "      width: 32px;\n",
              "    }\n",
              "\n",
              "    .colab-df-convert:hover {\n",
              "      background-color: #E2EBFA;\n",
              "      box-shadow: 0px 1px 2px rgba(60, 64, 67, 0.3), 0px 1px 3px 1px rgba(60, 64, 67, 0.15);\n",
              "      fill: #174EA6;\n",
              "    }\n",
              "\n",
              "    [theme=dark] .colab-df-convert {\n",
              "      background-color: #3B4455;\n",
              "      fill: #D2E3FC;\n",
              "    }\n",
              "\n",
              "    [theme=dark] .colab-df-convert:hover {\n",
              "      background-color: #434B5C;\n",
              "      box-shadow: 0px 1px 3px 1px rgba(0, 0, 0, 0.15);\n",
              "      filter: drop-shadow(0px 1px 2px rgba(0, 0, 0, 0.3));\n",
              "      fill: #FFFFFF;\n",
              "    }\n",
              "  </style>\n",
              "\n",
              "      <script>\n",
              "        const buttonEl =\n",
              "          document.querySelector('#df-8caecc14-d2ba-4a06-a9e5-5b6d3c168468 button.colab-df-convert');\n",
              "        buttonEl.style.display =\n",
              "          google.colab.kernel.accessAllowed ? 'block' : 'none';\n",
              "\n",
              "        async function convertToInteractive(key) {\n",
              "          const element = document.querySelector('#df-8caecc14-d2ba-4a06-a9e5-5b6d3c168468');\n",
              "          const dataTable =\n",
              "            await google.colab.kernel.invokeFunction('convertToInteractive',\n",
              "                                                     [key], {});\n",
              "          if (!dataTable) return;\n",
              "\n",
              "          const docLinkHtml = 'Like what you see? Visit the ' +\n",
              "            '<a target=\"_blank\" href=https://colab.research.google.com/notebooks/data_table.ipynb>data table notebook</a>'\n",
              "            + ' to learn more about interactive tables.';\n",
              "          element.innerHTML = '';\n",
              "          dataTable['output_type'] = 'display_data';\n",
              "          await google.colab.output.renderOutput(dataTable, element);\n",
              "          const docLink = document.createElement('div');\n",
              "          docLink.innerHTML = docLinkHtml;\n",
              "          element.appendChild(docLink);\n",
              "        }\n",
              "      </script>\n",
              "    </div>\n",
              "  </div>\n",
              "  "
            ],
            "text/plain": [
              "        name    last_name    stance wins losses  SLpM\n",
              "14    Israel     Adesanya    Switch   22      1  3.84\n",
              "40    Israel  Albuquerque  Orthodox    0      3  0.32\n",
              "769   Israel      Delgado              0      2  0.00\n",
              "1161  Israel        Giron             19      5  0.00"
            ]
          },
          "metadata": {},
          "execution_count": 424
        }
      ]
    },
    {
      "cell_type": "code",
      "source": [
        "df['SLpM'] = df['SLpM'].astype('float')\n",
        "df['wins'] = df['wins'].astype('int') \n",
        "df['losses'] = df['losses'].astype('int')  "
      ],
      "metadata": {
        "id": "BxbQkJib3UiR"
      },
      "execution_count": 428,
      "outputs": []
    },
    {
      "cell_type": "code",
      "source": [
        "df.info()"
      ],
      "metadata": {
        "colab": {
          "base_uri": "https://localhost:8080/"
        },
        "id": "DsHjuaUO3UPW",
        "outputId": "36438ec0-d80f-419a-e181-c982ea330bd6"
      },
      "execution_count": 430,
      "outputs": [
        {
          "output_type": "stream",
          "name": "stdout",
          "text": [
            "<class 'pandas.core.frame.DataFrame'>\n",
            "RangeIndex: 3741 entries, 0 to 3740\n",
            "Data columns (total 6 columns):\n",
            " #   Column     Non-Null Count  Dtype  \n",
            "---  ------     --------------  -----  \n",
            " 0   name       3741 non-null   object \n",
            " 1   last_name  3741 non-null   object \n",
            " 2   stance     3741 non-null   object \n",
            " 3   wins       3741 non-null   int64  \n",
            " 4   losses     3741 non-null   int64  \n",
            " 5   SLpM       3741 non-null   float64\n",
            "dtypes: float64(1), int64(2), object(3)\n",
            "memory usage: 175.5+ KB\n"
          ]
        }
      ]
    },
    {
      "cell_type": "code",
      "source": [
        "df['SLpM'].isna().sum() "
      ],
      "metadata": {
        "colab": {
          "base_uri": "https://localhost:8080/"
        },
        "id": "ykiVi6N6_RcS",
        "outputId": "09b836dc-bb51-45f6-90b7-1ea0cd655518"
      },
      "execution_count": 450,
      "outputs": [
        {
          "output_type": "execute_result",
          "data": {
            "text/plain": [
              "0"
            ]
          },
          "metadata": {},
          "execution_count": 450
        }
      ]
    },
    {
      "cell_type": "code",
      "source": [
        "'''Since we consider stats fighters with fewer than 10 fights somewhat unreliable,\n",
        "let's check what percentage of records that we're gonna discard due to no stance info are fighters\n",
        "with less than 10 fights'''\n",
        "\n",
        "df['fights'] = df['wins'] + df['losses'] \n",
        "over = [f for f in df[df['stance']=='']['fights'].values if f<10] \n",
        "len(over)/len(list(df[df['stance']=='']['fights'].values)) \n",
        "#So almost a half"
      ],
      "metadata": {
        "colab": {
          "base_uri": "https://localhost:8080/"
        },
        "id": "cLEgnYm55t4-",
        "outputId": "ae283128-712f-4e41-c541-00f33ac8708c"
      },
      "execution_count": 449,
      "outputs": [
        {
          "output_type": "execute_result",
          "data": {
            "text/plain": [
              "0.4715346534653465"
            ]
          },
          "metadata": {},
          "execution_count": 449
        }
      ]
    },
    {
      "cell_type": "code",
      "source": [
        "#We'll start some statistical tests from here on on Jupyter notebook\n",
        "df.groupby('stance')['SLpM'].mean()  "
      ],
      "metadata": {
        "colab": {
          "base_uri": "https://localhost:8080/"
        },
        "id": "9ONk5GvZ3UMz",
        "outputId": "4a4818f6-4d79-4ea0-a95a-c0c18ff342c9"
      },
      "execution_count": 435,
      "outputs": [
        {
          "output_type": "execute_result",
          "data": {
            "text/plain": [
              "stance\n",
              "               1.078057\n",
              "Open Stance    1.717143\n",
              "Orthodox       2.684936\n",
              "Sideways       0.093333\n",
              "Southpaw       2.535807\n",
              "Switch         3.300479\n",
              "Name: SLpM, dtype: float64"
            ]
          },
          "metadata": {},
          "execution_count": 435
        }
      ]
    },
    {
      "cell_type": "code",
      "source": [
        "from google.colab import files\n",
        "df.to_csv('fighter_stance.csv', index=False) \n",
        "files.download('fighter_stance.csv') "
      ],
      "metadata": {
        "colab": {
          "base_uri": "https://localhost:8080/",
          "height": 17
        },
        "id": "J23wR9M_3UJ_",
        "outputId": "5f75e59c-c7d2-45a9-abd3-dd1165c1e258"
      },
      "execution_count": 448,
      "outputs": [
        {
          "output_type": "display_data",
          "data": {
            "application/javascript": [
              "\n",
              "    async function download(id, filename, size) {\n",
              "      if (!google.colab.kernel.accessAllowed) {\n",
              "        return;\n",
              "      }\n",
              "      const div = document.createElement('div');\n",
              "      const label = document.createElement('label');\n",
              "      label.textContent = `Downloading \"${filename}\": `;\n",
              "      div.appendChild(label);\n",
              "      const progress = document.createElement('progress');\n",
              "      progress.max = size;\n",
              "      div.appendChild(progress);\n",
              "      document.body.appendChild(div);\n",
              "\n",
              "      const buffers = [];\n",
              "      let downloaded = 0;\n",
              "\n",
              "      const channel = await google.colab.kernel.comms.open(id);\n",
              "      // Send a message to notify the kernel that we're ready.\n",
              "      channel.send({})\n",
              "\n",
              "      for await (const message of channel.messages) {\n",
              "        // Send a message to notify the kernel that we're ready.\n",
              "        channel.send({})\n",
              "        if (message.buffers) {\n",
              "          for (const buffer of message.buffers) {\n",
              "            buffers.push(buffer);\n",
              "            downloaded += buffer.byteLength;\n",
              "            progress.value = downloaded;\n",
              "          }\n",
              "        }\n",
              "      }\n",
              "      const blob = new Blob(buffers, {type: 'application/binary'});\n",
              "      const a = document.createElement('a');\n",
              "      a.href = window.URL.createObjectURL(blob);\n",
              "      a.download = filename;\n",
              "      div.appendChild(a);\n",
              "      a.click();\n",
              "      div.remove();\n",
              "    }\n",
              "  "
            ],
            "text/plain": [
              "<IPython.core.display.Javascript object>"
            ]
          },
          "metadata": {}
        },
        {
          "output_type": "display_data",
          "data": {
            "application/javascript": [
              "download(\"download_b426b0f2-8bed-488b-aec1-46a7cf7ca56c\", \"fighter_stance.csv\", 125254)"
            ],
            "text/plain": [
              "<IPython.core.display.Javascript object>"
            ]
          },
          "metadata": {}
        }
      ]
    },
    {
      "cell_type": "code",
      "source": [
        ""
      ],
      "metadata": {
        "id": "TF8gts6q6tTs"
      },
      "execution_count": null,
      "outputs": []
    },
    {
      "cell_type": "code",
      "source": [
        ""
      ],
      "metadata": {
        "id": "jM3brcWp6tAo"
      },
      "execution_count": null,
      "outputs": []
    }
  ]
}